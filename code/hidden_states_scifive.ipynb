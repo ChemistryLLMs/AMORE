{
 "cells": [
  {
   "cell_type": "code",
   "execution_count": 1,
   "metadata": {},
   "outputs": [
    {
     "name": "stderr",
     "output_type": "stream",
     "text": [
      "C:\\Users\\veron\\AppData\\Roaming\\Python\\Python39\\site-packages\\tqdm\\auto.py:21: TqdmWarning: IProgress not found. Please update jupyter and ipywidgets. See https://ipywidgets.readthedocs.io/en/stable/user_install.html\n",
      "  from .autonotebook import tqdm as notebook_tqdm\n"
     ]
    }
   ],
   "source": [
    "from hidden import *\n",
    "import pandas as pd\n",
    "\n",
    "from transformers import AutoTokenizer, AutoModel"
   ]
  },
  {
   "cell_type": "code",
   "execution_count": 2,
   "metadata": {},
   "outputs": [],
   "source": [
    "canonical = pd.read_csv('./test_data/test_rdkit_canonical.csv', sep='\\t')\n",
    "kekulize = pd.read_csv('./test_data/test_kekulize_smiles.csv', sep='\\t')\n",
    "explicit_hs = pd.read_csv('./test_data/test_explicit_hs.csv', sep='\\t')\n",
    "cycle = pd.read_csv('./test_data/test_cycle_renumering.csv', sep='\\t')\n",
    "gold = pd.read_csv('./test_data/test_original.csv', sep='\\t')\n",
    "\n",
    "full_data = {'gold': gold, 'explicit_hs': explicit_hs, 'kekulize': kekulize, 'canonical': canonical, 'cycle': cycle}"
   ]
  },
  {
   "cell_type": "code",
   "execution_count": 4,
   "metadata": {},
   "outputs": [
    {
     "name": "stderr",
     "output_type": "stream",
     "text": [
      "100%|██████████| 3300/3300 [04:39<00:00, 11.81it/s]\n",
      "100%|██████████| 3300/3300 [07:20<00:00,  7.49it/s]\n",
      "100%|██████████| 3300/3300 [04:14<00:00, 12.95it/s]\n",
      "100%|██████████| 3300/3300 [04:10<00:00, 13.17it/s]\n",
      "100%|██████████| 3300/3300 [04:19<00:00, 12.70it/s]\n"
     ]
    },
    {
     "name": "stdout",
     "output_type": "stream",
     "text": [
      "explicit_hs\n",
      "[35, 40, 48, 46, 37, 32, 30, 29, 27, 27, 30, 25, 57]\n",
      "kekulize\n",
      "[2364, 2512, 2547, 2482, 2324, 2031, 1951, 1936, 1800, 1452, 1036, 940, 1595]\n",
      "canonical\n",
      "[1485, 1598, 1695, 1673, 1632, 1429, 1371, 1372, 1310, 1059, 779, 714, 1108]\n",
      "cycle\n",
      "[3194, 3275, 3286, 3280, 3288, 3296, 3292, 3294, 3294, 3248, 3017, 2871, 3292]\n"
     ]
    }
   ],
   "source": [
    "from transformers import AutoTokenizer, AutoModelForSeq2SeqLM\n",
    "from hidden import *\n",
    "\n",
    "tokenizer = AutoTokenizer.from_pretrained(\"razent/SciFive-base-Pubmed\")  \n",
    "model = AutoModelForSeq2SeqLM.from_pretrained(\"razent/SciFive-base-Pubmed\")\n",
    "\n",
    "for key, value in full_data.items():\n",
    "    save_hidden_states_scifive_encoder(value, model, tokenizer, key)\n",
    "\n",
    "x = count_hidden('explicit_hs', 'gold')\n",
    "print('explicit_hs')\n",
    "print(x)\n",
    "\n",
    "x = count_hidden('kekulize', 'gold')\n",
    "print('kekulize')\n",
    "print(x)\n",
    "\n",
    "x = count_hidden('canonical', 'gold')\n",
    "print('canonical')\n",
    "print(x)\n",
    "\n",
    "x = count_hidden('cycle', 'gold')\n",
    "print('cycle')\n",
    "print(x)"
   ]
  },
  {
   "cell_type": "code",
   "execution_count": 26,
   "metadata": {},
   "outputs": [
    {
     "name": "stderr",
     "output_type": "stream",
     "text": [
      "100%|██████████| 3300/3300 [00:01<00:00, 2959.39it/s]\n",
      "100%|██████████| 3300/3300 [05:22<00:00, 10.22it/s]\n",
      "100%|██████████| 3300/3300 [00:01<00:00, 2835.01it/s]\n",
      "100%|██████████| 3300/3300 [08:10<00:00,  6.73it/s]\n"
     ]
    },
    {
     "name": "stdout",
     "output_type": "stream",
     "text": [
      "explicit_hs\n",
      "[28, 39, 64, 66, 66, 66, 53, 59, 58, 53, 46, 44, 91]\n"
     ]
    }
   ],
   "source": [
    "tokenizer = AutoTokenizer.from_pretrained('GT4SD/multitask-text-and-chemistry-t5-base-augm')\n",
    "model = AutoModel.from_pretrained('GT4SD/multitask-text-and-chemistry-t5-base-augm')\n",
    "\n",
    "\n",
    "for key, value in full_data.items():\n",
    "    try:\n",
    "        save_hidden_states_encoder(value, model, tokenizer, key)\n",
    "    except:\n",
    "        print('model mode')\n",
    "        save_hidden_states_model(value, model, tokenizer, key)\n",
    "\n",
    "x = count_hidden('explicit_hs', 'gold')\n",
    "print('explicit_hs')\n",
    "print(x)"
   ]
  }
 ],
 "metadata": {
  "kernelspec": {
   "display_name": "pt",
   "language": "python",
   "name": "python3"
  },
  "language_info": {
   "codemirror_mode": {
    "name": "ipython",
    "version": 3
   },
   "file_extension": ".py",
   "mimetype": "text/x-python",
   "name": "python",
   "nbconvert_exporter": "python",
   "pygments_lexer": "ipython3",
   "version": "3.9.18"
  }
 },
 "nbformat": 4,
 "nbformat_minor": 2
}
