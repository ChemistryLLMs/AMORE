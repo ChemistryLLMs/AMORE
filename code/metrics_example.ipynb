{
 "cells": [
  {
   "cell_type": "markdown",
   "metadata": {},
   "source": [
    "### Metrics"
   ]
  },
  {
   "cell_type": "code",
   "execution_count": null,
   "metadata": {},
   "outputs": [],
   "source": [
    "#!pip install luna-nlg\n",
    "\n",
    "from luna.calculate import Calculator\n",
    "from luna.ngram import BLEUMetrics, ROUGEMetrics, METEORMetrics\n",
    "import numpy as np\n",
    "\n",
    "metrics = [BLEUMetrics(), ROUGEMetrics('1'), METEORMetrics()]\n",
    "calculator = Calculator(execute_parallel=True)\n",
    "\n",
    "canonical = []\n",
    "origial = []"
   ]
  },
  {
   "cell_type": "code",
   "execution_count": null,
   "metadata": {},
   "outputs": [],
   "source": [
    "metrics_dict = calculator.calculate(metrics=metrics, hyps=canonical, refs=origial)\n",
    "\n",
    "for metric_name, metric_list in metrics_dict():\n",
    "    print(metric_name)\n",
    "    print(np.mean(metric_list))\n",
    "    print(\"----------------------\")"
   ]
  }
 ],
 "metadata": {
  "language_info": {
   "name": "python"
  }
 },
 "nbformat": 4,
 "nbformat_minor": 2
}
